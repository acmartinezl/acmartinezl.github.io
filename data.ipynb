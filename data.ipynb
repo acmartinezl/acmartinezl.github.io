{
  "nbformat": 4,
  "nbformat_minor": 0,
  "metadata": {
    "colab": {
      "name": "data.ipynb",
      "provenance": [],
      "authorship_tag": "ABX9TyO1dwtv6tkfQe6nZbnCxGrd",
      "include_colab_link": true
    },
    "kernelspec": {
      "name": "python3",
      "display_name": "Python 3"
    }
  },
  "cells": [
    {
      "cell_type": "markdown",
      "metadata": {
        "id": "view-in-github",
        "colab_type": "text"
      },
      "source": [
        "<a href=\"https://colab.research.google.com/github/acmartinezl/acmartinezl.github.io/blob/master/data.ipynb\" target=\"_parent\"><img src=\"https://colab.research.google.com/assets/colab-badge.svg\" alt=\"Open In Colab\"/></a>"
      ]
    },
    {
      "cell_type": "code",
      "metadata": {
        "id": "0bhoKhoEGyWK",
        "colab_type": "code",
        "colab": {
          "base_uri": "https://localhost:8080/",
          "height": 123
        },
        "outputId": "2adf1c55-8aae-4bdf-f25e-ef55ef4e7684"
      },
      "source": [
        "%pip install sodapy"
      ],
      "execution_count": 19,
      "outputs": [
        {
          "output_type": "stream",
          "text": [
            "Requirement already satisfied: sodapy in /usr/local/lib/python3.6/dist-packages (2.1.0)\n",
            "Requirement already satisfied: requests>=2.20.0 in /usr/local/lib/python3.6/dist-packages (from sodapy) (2.23.0)\n",
            "Requirement already satisfied: chardet<4,>=3.0.2 in /usr/local/lib/python3.6/dist-packages (from requests>=2.20.0->sodapy) (3.0.4)\n",
            "Requirement already satisfied: urllib3!=1.25.0,!=1.25.1,<1.26,>=1.21.1 in /usr/local/lib/python3.6/dist-packages (from requests>=2.20.0->sodapy) (1.24.3)\n",
            "Requirement already satisfied: certifi>=2017.4.17 in /usr/local/lib/python3.6/dist-packages (from requests>=2.20.0->sodapy) (2020.6.20)\n",
            "Requirement already satisfied: idna<3,>=2.5 in /usr/local/lib/python3.6/dist-packages (from requests>=2.20.0->sodapy) (2.10)\n"
          ],
          "name": "stdout"
        }
      ]
    },
    {
      "cell_type": "code",
      "metadata": {
        "id": "zy9CrPxxHrik",
        "colab_type": "code",
        "colab": {}
      },
      "source": [
        "import numpy as np\n",
        "import pandas as pd\n",
        "from sodapy import Socrata"
      ],
      "execution_count": 20,
      "outputs": []
    },
    {
      "cell_type": "markdown",
      "metadata": {
        "id": "9aacNiEAY2o4",
        "colab_type": "text"
      },
      "source": [
        "**Leyendo los datos 'Casos positivos de COVID-19 en Colombia'**"
      ]
    },
    {
      "cell_type": "code",
      "metadata": {
        "id": "YxN77wUcWLaD",
        "colab_type": "code",
        "colab": {
          "base_uri": "https://localhost:8080/",
          "height": 52
        },
        "outputId": "ea25b936-20c6-460e-a4bf-880746907f3b"
      },
      "source": [
        "socrata_domain = \"www.datos.gov.co\"\n",
        "socrata_dataset_identifier = \"gt2j-8ykr\"\n",
        "\n",
        "client = Socrata(socrata_domain, None)\n",
        "results = client.get(socrata_dataset_identifier,limit=1000000000)\n",
        "df = pd.DataFrame.from_dict(results)\n",
        "df.shape"
      ],
      "execution_count": null,
      "outputs": [
        {
          "output_type": "stream",
          "text": [
            "WARNING:root:Requests made without an app_token will be subject to strict throttling limits.\n"
          ],
          "name": "stderr"
        },
        {
          "output_type": "execute_result",
          "data": {
            "text/plain": [
              "(476660, 21)"
            ]
          },
          "metadata": {
            "tags": []
          },
          "execution_count": 15
        }
      ]
    },
    {
      "cell_type": "code",
      "metadata": {
        "id": "0WIJrGxkYuq7",
        "colab_type": "code",
        "colab": {
          "base_uri": "https://localhost:8080/",
          "height": 141
        },
        "outputId": "2204a303-a059-488b-9d2b-2da4913acd86"
      },
      "source": [
        "df.columns"
      ],
      "execution_count": null,
      "outputs": [
        {
          "output_type": "execute_result",
          "data": {
            "text/plain": [
              "Index(['id_de_caso', 'fecha_de_notificaci_n', 'c_digo_divipola',\n",
              "       'ciudad_de_ubicaci_n', 'departamento', 'atenci_n', 'edad', 'sexo',\n",
              "       'tipo', 'estado', 'pa_s_de_procedencia', 'fis', 'fecha_diagnostico',\n",
              "       'fecha_recuperado', 'fecha_reporte_web', 'tipo_recuperaci_n',\n",
              "       'codigo_departamento', 'codigo_pais', 'pertenencia_etnica',\n",
              "       'nombre_grupo_etnico', 'fecha_de_muerte'],\n",
              "      dtype='object')"
            ]
          },
          "metadata": {
            "tags": []
          },
          "execution_count": 17
        }
      ]
    },
    {
      "cell_type": "code",
      "metadata": {
        "id": "jdyIAuSTZR-E",
        "colab_type": "code",
        "colab": {
          "base_uri": "https://localhost:8080/",
          "height": 301
        },
        "outputId": "8bf98ca3-7039-43c6-dda6-5834afc6696b"
      },
      "source": [
        "df.head(5)"
      ],
      "execution_count": null,
      "outputs": [
        {
          "output_type": "execute_result",
          "data": {
            "text/html": [
              "<div>\n",
              "<style scoped>\n",
              "    .dataframe tbody tr th:only-of-type {\n",
              "        vertical-align: middle;\n",
              "    }\n",
              "\n",
              "    .dataframe tbody tr th {\n",
              "        vertical-align: top;\n",
              "    }\n",
              "\n",
              "    .dataframe thead th {\n",
              "        text-align: right;\n",
              "    }\n",
              "</style>\n",
              "<table border=\"1\" class=\"dataframe\">\n",
              "  <thead>\n",
              "    <tr style=\"text-align: right;\">\n",
              "      <th></th>\n",
              "      <th>id_de_caso</th>\n",
              "      <th>fecha_de_notificaci_n</th>\n",
              "      <th>c_digo_divipola</th>\n",
              "      <th>ciudad_de_ubicaci_n</th>\n",
              "      <th>departamento</th>\n",
              "      <th>atenci_n</th>\n",
              "      <th>edad</th>\n",
              "      <th>sexo</th>\n",
              "      <th>tipo</th>\n",
              "      <th>estado</th>\n",
              "      <th>pa_s_de_procedencia</th>\n",
              "      <th>fis</th>\n",
              "      <th>fecha_diagnostico</th>\n",
              "      <th>fecha_recuperado</th>\n",
              "      <th>fecha_reporte_web</th>\n",
              "      <th>tipo_recuperaci_n</th>\n",
              "      <th>codigo_departamento</th>\n",
              "      <th>codigo_pais</th>\n",
              "      <th>pertenencia_etnica</th>\n",
              "      <th>nombre_grupo_etnico</th>\n",
              "      <th>fecha_de_muerte</th>\n",
              "    </tr>\n",
              "  </thead>\n",
              "  <tbody>\n",
              "    <tr>\n",
              "      <th>0</th>\n",
              "      <td>1</td>\n",
              "      <td>2020-03-02T00:00:00.000</td>\n",
              "      <td>11001</td>\n",
              "      <td>Bogotá D.C.</td>\n",
              "      <td>Bogotá D.C.</td>\n",
              "      <td>Recuperado</td>\n",
              "      <td>19</td>\n",
              "      <td>F</td>\n",
              "      <td>Importado</td>\n",
              "      <td>Leve</td>\n",
              "      <td>ITALIA</td>\n",
              "      <td>2020-02-27T00:00:00.000</td>\n",
              "      <td>2020-03-06T00:00:00.000</td>\n",
              "      <td>2020-03-13T00:00:00.000</td>\n",
              "      <td>2020-03-06T00:00:00.000</td>\n",
              "      <td>PCR</td>\n",
              "      <td>11</td>\n",
              "      <td>380</td>\n",
              "      <td>Otro</td>\n",
              "      <td>NaN</td>\n",
              "      <td>NaN</td>\n",
              "    </tr>\n",
              "    <tr>\n",
              "      <th>1</th>\n",
              "      <td>2</td>\n",
              "      <td>2020-03-06T00:00:00.000</td>\n",
              "      <td>76111</td>\n",
              "      <td>Guadalajara de Buga</td>\n",
              "      <td>Valle del Cauca</td>\n",
              "      <td>Recuperado</td>\n",
              "      <td>34</td>\n",
              "      <td>M</td>\n",
              "      <td>Importado</td>\n",
              "      <td>Leve</td>\n",
              "      <td>ESPAÑA</td>\n",
              "      <td>2020-03-04T00:00:00.000</td>\n",
              "      <td>2020-03-09T00:00:00.000</td>\n",
              "      <td>2020-03-19T00:00:00.000</td>\n",
              "      <td>2020-03-09T00:00:00.000</td>\n",
              "      <td>PCR</td>\n",
              "      <td>76</td>\n",
              "      <td>724</td>\n",
              "      <td>Otro</td>\n",
              "      <td>NaN</td>\n",
              "      <td>NaN</td>\n",
              "    </tr>\n",
              "    <tr>\n",
              "      <th>2</th>\n",
              "      <td>3</td>\n",
              "      <td>2020-03-07T00:00:00.000</td>\n",
              "      <td>05001</td>\n",
              "      <td>Medellín</td>\n",
              "      <td>Antioquia</td>\n",
              "      <td>Recuperado</td>\n",
              "      <td>50</td>\n",
              "      <td>F</td>\n",
              "      <td>Importado</td>\n",
              "      <td>Leve</td>\n",
              "      <td>ESPAÑA</td>\n",
              "      <td>2020-02-29T00:00:00.000</td>\n",
              "      <td>2020-03-09T00:00:00.000</td>\n",
              "      <td>2020-03-15T00:00:00.000</td>\n",
              "      <td>2020-03-09T00:00:00.000</td>\n",
              "      <td>PCR</td>\n",
              "      <td>5</td>\n",
              "      <td>724</td>\n",
              "      <td>Otro</td>\n",
              "      <td>NaN</td>\n",
              "      <td>NaN</td>\n",
              "    </tr>\n",
              "    <tr>\n",
              "      <th>3</th>\n",
              "      <td>4</td>\n",
              "      <td>2020-03-09T00:00:00.000</td>\n",
              "      <td>05001</td>\n",
              "      <td>Medellín</td>\n",
              "      <td>Antioquia</td>\n",
              "      <td>Recuperado</td>\n",
              "      <td>55</td>\n",
              "      <td>M</td>\n",
              "      <td>Relacionado</td>\n",
              "      <td>Leve</td>\n",
              "      <td>NaN</td>\n",
              "      <td>2020-03-06T00:00:00.000</td>\n",
              "      <td>2020-03-11T00:00:00.000</td>\n",
              "      <td>2020-03-26T00:00:00.000</td>\n",
              "      <td>2020-03-11T00:00:00.000</td>\n",
              "      <td>PCR</td>\n",
              "      <td>5</td>\n",
              "      <td>NaN</td>\n",
              "      <td>Otro</td>\n",
              "      <td>NaN</td>\n",
              "      <td>NaN</td>\n",
              "    </tr>\n",
              "    <tr>\n",
              "      <th>4</th>\n",
              "      <td>5</td>\n",
              "      <td>2020-03-09T00:00:00.000</td>\n",
              "      <td>05001</td>\n",
              "      <td>Medellín</td>\n",
              "      <td>Antioquia</td>\n",
              "      <td>Recuperado</td>\n",
              "      <td>25</td>\n",
              "      <td>M</td>\n",
              "      <td>Relacionado</td>\n",
              "      <td>Leve</td>\n",
              "      <td>NaN</td>\n",
              "      <td>2020-03-08T00:00:00.000</td>\n",
              "      <td>2020-03-11T00:00:00.000</td>\n",
              "      <td>2020-03-23T00:00:00.000</td>\n",
              "      <td>2020-03-11T00:00:00.000</td>\n",
              "      <td>PCR</td>\n",
              "      <td>5</td>\n",
              "      <td>NaN</td>\n",
              "      <td>Otro</td>\n",
              "      <td>NaN</td>\n",
              "      <td>NaN</td>\n",
              "    </tr>\n",
              "  </tbody>\n",
              "</table>\n",
              "</div>"
            ],
            "text/plain": [
              "  id_de_caso    fecha_de_notificaci_n  ... nombre_grupo_etnico fecha_de_muerte\n",
              "0          1  2020-03-02T00:00:00.000  ...                 NaN             NaN\n",
              "1          2  2020-03-06T00:00:00.000  ...                 NaN             NaN\n",
              "2          3  2020-03-07T00:00:00.000  ...                 NaN             NaN\n",
              "3          4  2020-03-09T00:00:00.000  ...                 NaN             NaN\n",
              "4          5  2020-03-09T00:00:00.000  ...                 NaN             NaN\n",
              "\n",
              "[5 rows x 21 columns]"
            ]
          },
          "metadata": {
            "tags": []
          },
          "execution_count": 18
        }
      ]
    }
  ]
}